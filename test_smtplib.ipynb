{
 "cells": [
  {
   "cell_type": "code",
   "execution_count": 7,
   "id": "bf48dd06",
   "metadata": {},
   "outputs": [
    {
     "name": "stdout",
     "output_type": "stream",
     "text": [
      "Loaded environment variables from /home/rsi/etc/grsrv03.env\n"
     ]
    },
    {
     "data": {
      "text/plain": [
       "True"
      ]
     },
     "execution_count": 7,
     "metadata": {},
     "output_type": "execute_result"
    }
   ],
   "source": [
    "import smtplib\n",
    "import ssl\n",
    "\n",
    "\n",
    "\"\"\"Configuration and environment variable management.\"\"\"\n",
    "import os\n",
    "from pathlib import Path\n",
    "from dotenv import load_dotenv\n",
    "\n",
    "def load_environment(env_path=\"~/etc/grsrv03.env\"):\n",
    "    \"\"\"\n",
    "    Load environment variables from the specified file.\n",
    "    \n",
    "    Args:\n",
    "        env_path (str): Path to the .env file. Defaults to ~/etc/grsrv03.env\n",
    "        \n",
    "    Returns:\n",
    "        bool: True if the file was loaded successfully, False otherwise\n",
    "    \"\"\"\n",
    "    # Expand the ~ to the user's home directory\n",
    "    env_path = os.path.expanduser(env_path)\n",
    "    \n",
    "    # Check if the file exists\n",
    "    if not os.path.isfile(env_path):\n",
    "        print(f\"Warning: Environment file not found at {env_path}\")\n",
    "        return False\n",
    "    \n",
    "    # Load the environment variables\n",
    "    load_dotenv(env_path, override=True)\n",
    "    print(f\"Loaded environment variables from {env_path}\")\n",
    "    return True\n",
    "\n",
    "# Load environment variables when this module is imported\n",
    "load_environment()"
   ]
  },
  {
   "cell_type": "code",
   "execution_count": 8,
   "id": "75a23dfa",
   "metadata": {},
   "outputs": [],
   "source": [
    "smtp_server = os.environ.get(\"SMTP_SERVER\")\n",
    "smtp_port = os.environ.get(\"SMTP_PORT\")\n",
    "smtp_token = os.environ.get(\"SMTP_TOKEN\")\n",
    "from_email = os.environ.get(\"FROM_EMAIL\")\n",
    "to_email = os.environ.get(\"TO_EMAIL\")\n",
    "\n",
    "context = ssl.create_default_context()\n",
    "with smtplib.SMTP(smtp_server, smtp_port) as server:\n",
    "    server.starttls(context=context) \n",
    "    server.login(from_email, smtp_token)\n",
    "    server.sendmail(from_email, to_email, \"Test email\")\n"
   ]
  },
  {
   "cell_type": "code",
   "execution_count": 10,
   "id": "1391e95d",
   "metadata": {},
   "outputs": [],
   "source": [
    "from email.message import EmailMessage\n",
    "\n",
    "msg = EmailMessage()\n",
    "msg.set_content(\"This is a test email\")\n",
    "msg[\"Subject\"] = \"Test email\"\n",
    "msg[\"From\"] = os.environ.get(\"FROM_EMAIL\")\n",
    "msg[\"To\"] = os.environ.get(\"TO_EMAIL\")\n",
    "\n",
    "context = ssl.create_default_context()\n",
    "with smtplib.SMTP(smtp_server, smtp_port) as server:\n",
    "    server.starttls(context=context) \n",
    "    server.login(from_email, smtp_token)\n",
    "    server.send_message(msg)\n",
    "    server.quit()\n"
   ]
  }
 ],
 "metadata": {
  "kernelspec": {
   "display_name": ".venv",
   "language": "python",
   "name": "python3"
  },
  "language_info": {
   "codemirror_mode": {
    "name": "ipython",
    "version": 3
   },
   "file_extension": ".py",
   "mimetype": "text/x-python",
   "name": "python",
   "nbconvert_exporter": "python",
   "pygments_lexer": "ipython3",
   "version": "3.11.2"
  }
 },
 "nbformat": 4,
 "nbformat_minor": 5
}
